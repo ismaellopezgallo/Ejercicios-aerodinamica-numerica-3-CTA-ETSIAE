{
 "cells": [
  {
   "cell_type": "markdown",
   "metadata": {},
   "source": [
    "# 4. Manantiales alineados"
   ]
  },
  {
   "cell_type": "markdown",
   "metadata": {},
   "source": [
    "#### Importación de los módulos necesarios"
   ]
  },
  {
   "cell_type": "code",
   "execution_count": 1,
   "metadata": {},
   "outputs": [],
   "source": [
    "import numpy as np\n",
    "import matplotlib.pyplot as plt\n",
    "from mpl_toolkits.axes_grid1 import make_axes_locatable"
   ]
  },
  {
   "cell_type": "markdown",
   "metadata": {},
   "source": [
    "#### Definición de las funciones de cálculo del campo de velocidades\n"
   ]
  },
  {
   "cell_type": "code",
   "execution_count": 2,
   "metadata": {},
   "outputs": [],
   "source": [
    "def velocity_field(x, z, Q, x_s, z_s):\n",
    "    \"\"\"\n",
    "    Calcula el campo de velocidades inducido por una serie finita de manantiales y sumideros.\n",
    "    \n",
    "    Parámetros:\n",
    "    x, z -- coordenadas en el plano xz\n",
    "    Q -- magnitud de los manantiales/sumideros\n",
    "    x_s, z_s -- coordenadas de los manantiales/sumideros\n",
    "    \n",
    "    Devuelve:\n",
    "    u, w -- componentes del campo de velocidades\n",
    "    \"\"\"\n",
    "    u = np.zeros_like(x)\n",
    "    w = np.zeros_like(z)\n",
    "    N = len(Q)\n",
    "    for i in range(N):\n",
    "        r = np.sqrt((x - x_s[i])**2 + (z - z_s[i])**2)\n",
    "        u += Q[i] * (x - x_s[i]) / (2 * np.pi * r**2)\n",
    "        w += Q[i] * (z - z_s[i]) / (2 * np.pi * r**2)\n",
    "    return u, w"
   ]
  },
  {
   "cell_type": "code",
   "execution_count": 3,
   "metadata": {},
   "outputs": [],
   "source": [
    "# Definimos la magnitud y ángulo de la velocidad incidente\n",
    "U_inf = 0\n",
    "alpha = 0\n",
    "\n",
    "# Definimos las coordenadas del manantial original\n",
    "Q_og = 388\n",
    "a = 1.5\n",
    "\n",
    "# creamos los demás manantiales alineados\n",
    "Q = np.array([Q_og, Q_og, Q_og])\n",
    "x_s = np.array([0, a, -a])\n",
    "z_s = np.array([0, 0, 0])"
   ]
  },
  {
   "cell_type": "markdown",
   "metadata": {},
   "source": [
    "### Velocidad en los puntos que nos piden"
   ]
  },
  {
   "cell_type": "code",
   "execution_count": 4,
   "metadata": {},
   "outputs": [
    {
     "name": "stdout",
     "output_type": "stream",
     "text": [
      "La velocidad en el punto -6.6125 , -4.3323 es: -19.4872 , -13.4013 .\n"
     ]
    }
   ],
   "source": [
    "# coordenadas del punto por el que nos preguntan\n",
    "x_p, z_p = -6.6125, -4.3323\n",
    "\n",
    "u_p, w_p = velocity_field(x_p, z_p, Q, x_s, z_s)\n",
    "\n",
    "print('La velocidad en el punto',x_p,',',z_p , 'es:', \"{:.4f}\".format(u_p),',',\"{:.4f}\".format(w_p),'.')"
   ]
  }
 ],
 "metadata": {
  "kernelspec": {
   "display_name": "base",
   "language": "python",
   "name": "python3"
  },
  "language_info": {
   "codemirror_mode": {
    "name": "ipython",
    "version": 3
   },
   "file_extension": ".py",
   "mimetype": "text/x-python",
   "name": "python",
   "nbconvert_exporter": "python",
   "pygments_lexer": "ipython3",
   "version": "3.11.5"
  }
 },
 "nbformat": 4,
 "nbformat_minor": 2
}
