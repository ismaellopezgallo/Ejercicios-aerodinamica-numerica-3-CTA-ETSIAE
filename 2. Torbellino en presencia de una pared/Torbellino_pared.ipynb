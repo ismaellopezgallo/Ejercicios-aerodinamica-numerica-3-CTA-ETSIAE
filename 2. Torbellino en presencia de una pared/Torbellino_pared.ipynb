{
 "cells": [
  {
   "cell_type": "markdown",
   "metadata": {},
   "source": [
    "# 2. Torbellino en presencia de una pared"
   ]
  },
  {
   "cell_type": "markdown",
   "metadata": {},
   "source": [
    "#### Importación de los módulos necesarios"
   ]
  },
  {
   "cell_type": "code",
   "execution_count": 13,
   "metadata": {},
   "outputs": [],
   "source": [
    "import numpy as np"
   ]
  },
  {
   "cell_type": "markdown",
   "metadata": {},
   "source": [
    "#### Definición de las funciones de cálculo del campo de velocidades\n"
   ]
  },
  {
   "cell_type": "code",
   "execution_count": 14,
   "metadata": {},
   "outputs": [],
   "source": [
    "def velocity_field(x, z, Gamma, x_t, z_t):\n",
    "    \"\"\"\n",
    "    Calcula el campo de velocidades inducido por una serie finita de manantiales y sumideros.\n",
    "    \n",
    "    Parámetros:\n",
    "    x, z -- coordenadas en el plano xz\n",
    "    Gamma -- magnitud de los torbellinos\n",
    "    x_s, z_s -- coordenadas de los torbellinos\n",
    "    \n",
    "    Devuelve:\n",
    "    u, w -- componentes del campo de velocidades\n",
    "    \"\"\"\n",
    "    u = np.zeros_like(x)\n",
    "    w = np.zeros_like(z)\n",
    "    N = len(Gamma)\n",
    "    for i in range(N):\n",
    "        r = np.sqrt((x - x_t[i])**2 + (z - z_t[i])**2)\n",
    "        u += Gamma[i] * (z - z_t[i]) / (2 * np.pi * r**2)\n",
    "        w += -1 * Gamma[i] * (x - x_t[i]) / (2 * np.pi * r**2)\n",
    "    return u, w"
   ]
  },
  {
   "cell_type": "markdown",
   "metadata": {},
   "source": [
    "#### Planteamos las condiciones del problema concreto que tenemos\n",
    "\n",
    "Es importante acordarnos de modificar el dominio, duplicando un torbellino para eliminar la pared."
   ]
  },
  {
   "cell_type": "code",
   "execution_count": 15,
   "metadata": {},
   "outputs": [],
   "source": [
    "# Definimos la magnitud y ángulo de la velocidad incidente\n",
    "U_inf = 0\n",
    "alpha = 0\n",
    "\n",
    "# Definimos las coordenadas de los torbellinos\n",
    "# tenemos que duplicar el torbellino para eliminar la pared\n",
    "Gamma = np.array([344, -344])\n",
    "x_t = np.array([4.63 , -4.63])\n",
    "z_t = np.array([0, 0])"
   ]
  },
  {
   "cell_type": "markdown",
   "metadata": {},
   "source": [
    "### Calculamos la velocidad en los puntos que nos interesa"
   ]
  },
  {
   "cell_type": "code",
   "execution_count": 16,
   "metadata": {},
   "outputs": [
    {
     "name": "stdout",
     "output_type": "stream",
     "text": [
      "La velocidad en el punto 5.338 , -5.0 es: -8.5334 , 2.8683 .\n"
     ]
    }
   ],
   "source": [
    "# coordenadas del punto por el que nos preguntan\n",
    "x_p, z_p = 5.3380, -5.\n",
    "\n",
    "u_p, w_p = velocity_field(x_p, z_p, Gamma, x_t, z_t)\n",
    "\n",
    "print('La velocidad en el punto',x_p,',',z_p , 'es:', \n",
    "      \"{:.4f}\".format(u_p),',',\"{:.4f}\".format(w_p),'.')"
   ]
  }
 ],
 "metadata": {
  "kernelspec": {
   "display_name": "base",
   "language": "python",
   "name": "python3"
  },
  "language_info": {
   "codemirror_mode": {
    "name": "ipython",
    "version": 3
   },
   "file_extension": ".py",
   "mimetype": "text/x-python",
   "name": "python",
   "nbconvert_exporter": "python",
   "pygments_lexer": "ipython3",
   "version": "3.11.5"
  }
 },
 "nbformat": 4,
 "nbformat_minor": 2
}
