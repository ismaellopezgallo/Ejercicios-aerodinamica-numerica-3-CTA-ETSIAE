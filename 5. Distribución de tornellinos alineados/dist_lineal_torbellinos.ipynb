{
 "cells": [
  {
   "cell_type": "markdown",
   "metadata": {},
   "source": [
    "# Ejercicio 5 - Distribución lineal de torbellinos"
   ]
  },
  {
   "cell_type": "code",
   "execution_count": 1,
   "metadata": {},
   "outputs": [],
   "source": [
    "import numpy as np"
   ]
  },
  {
   "cell_type": "markdown",
   "metadata": {},
   "source": [
    "Implementación de la función que nos da la velocidad en función de los parámetros de los torbellinos"
   ]
  },
  {
   "cell_type": "code",
   "execution_count": 2,
   "metadata": {},
   "outputs": [],
   "source": [
    "def vel_torb_lin(a, b, gamma_a, gamma_b, x, z):\n",
    "    a_1 = np.arctan2(z, x - b) - np.arctan2(z, x - a)\n",
    "    a_2 = 0.5 * np.log(((x - a)**2 + z**2) / ((x - b)**2 + z**2))\n",
    "    a_3 = a_2 * x + (a - b) + a_1 * z\n",
    "\n",
    "    u = (a_1 * gamma_a - (a_2 * z - a_1 * x) * gamma_b) / (2 * np.pi)\n",
    "    w = (a_2 * gamma_a - a_3 * gamma_b) / (2 * np.pi)\n",
    "\n",
    "    return u, w \n"
   ]
  },
  {
   "cell_type": "markdown",
   "metadata": {},
   "source": [
    "Determinaciñon de las condiciones del problema"
   ]
  },
  {
   "cell_type": "code",
   "execution_count": 3,
   "metadata": {},
   "outputs": [],
   "source": [
    "# magnitudes de los torbellinos \n",
    "gamma_a =  9.8 # intensidad constante\n",
    "gamma_b =  3.0 # intensidad variable (lineal)\n",
    "a = 0 # borde inicio torbellino\n",
    "b = 1 # borde final torbellino\n",
    "\n",
    "# coordenadas del punto de interés\n",
    "x_p, z_p = 7.7, 9.4"
   ]
  },
  {
   "cell_type": "markdown",
   "metadata": {},
   "source": [
    "Cálculo de las velocidades con la función que construimos"
   ]
  },
  {
   "cell_type": "code",
   "execution_count": 4,
   "metadata": {},
   "outputs": [],
   "source": [
    "# obtención de las velocidades \n",
    "u_p, w_p = vel_torb_lin(a, b, gamma_a, gamma_b, x_p, z_p)"
   ]
  },
  {
   "cell_type": "markdown",
   "metadata": {},
   "source": [
    "Exposición de resultados"
   ]
  },
  {
   "cell_type": "code",
   "execution_count": 5,
   "metadata": {},
   "outputs": [
    {
     "name": "stdout",
     "output_type": "stream",
     "text": [
      "La velocidad en el punto 7.7 , 9.4 es: 0.1209 , 0.0679 .\n"
     ]
    }
   ],
   "source": [
    "# resultados\n",
    "print('La velocidad en el punto',x_p,',',z_p , 'es:', \"{:.4f}\".format(u_p),',',\"{:.4f}\".format(w_p),'.')"
   ]
  },
  {
   "cell_type": "markdown",
   "metadata": {},
   "source": [
    "### Validación"
   ]
  },
  {
   "cell_type": "markdown",
   "metadata": {},
   "source": [
    "##### Distribución de torbellinos de intensidad constante"
   ]
  },
  {
   "cell_type": "markdown",
   "metadata": {},
   "source": [
    "Expresiones válidas para dentro del panel"
   ]
  },
  {
   "cell_type": "code",
   "execution_count": 6,
   "metadata": {},
   "outputs": [
    {
     "name": "stdout",
     "output_type": "stream",
     "text": [
      "4.9\n",
      "0.21697680356121785\n"
     ]
    }
   ],
   "source": [
    "u = gamma_a / 2\n",
    "print(u)\n",
    "\n",
    "w =  - gamma_a / (4 * np.pi) * np.log((x_p - b)**2 / (x_p - a)**2)\n",
    "print(w)"
   ]
  },
  {
   "cell_type": "markdown",
   "metadata": {},
   "source": [
    "##### Distribución de torbellinos de intensidad linealmente variable"
   ]
  },
  {
   "cell_type": "markdown",
   "metadata": {},
   "source": [
    "Expresiones válidas para el centro del panel $(x, z) = (0, 0)$"
   ]
  },
  {
   "cell_type": "code",
   "execution_count": 7,
   "metadata": {},
   "outputs": [
    {
     "name": "stdout",
     "output_type": "stream",
     "text": [
      "0.75\n",
      "0.477464829275686\n"
     ]
    }
   ],
   "source": [
    "u = gamma_b / 4 * (a + b)\n",
    "print(u)\n",
    "\n",
    "w = - gamma_b / (2 * np.pi) * (a - b)\n",
    "print(w)"
   ]
  }
 ],
 "metadata": {
  "kernelspec": {
   "display_name": "base",
   "language": "python",
   "name": "python3"
  },
  "language_info": {
   "codemirror_mode": {
    "name": "ipython",
    "version": 3
   },
   "file_extension": ".py",
   "mimetype": "text/x-python",
   "name": "python",
   "nbconvert_exporter": "python",
   "pygments_lexer": "ipython3",
   "version": "3.11.5"
  }
 },
 "nbformat": 4,
 "nbformat_minor": 2
}
